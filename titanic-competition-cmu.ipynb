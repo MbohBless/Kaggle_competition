{
 "cells": [
  {
   "cell_type": "code",
   "execution_count": 1,
   "id": "75779566",
   "metadata": {
    "_cell_guid": "b1076dfc-b9ad-4769-8c92-a6c4dae69d19",
    "_uuid": "8f2839f25d086af736a60e9eeb907d3b93b6e0e5",
    "execution": {
     "iopub.execute_input": "2023-11-09T19:00:05.763776Z",
     "iopub.status.busy": "2023-11-09T19:00:05.762950Z",
     "iopub.status.idle": "2023-11-09T19:00:08.192431Z",
     "shell.execute_reply": "2023-11-09T19:00:08.190686Z"
    },
    "papermill": {
     "duration": 2.439404,
     "end_time": "2023-11-09T19:00:08.195827",
     "exception": false,
     "start_time": "2023-11-09T19:00:05.756423",
     "status": "completed"
    },
    "tags": []
   },
   "outputs": [
    {
     "name": "stdout",
     "output_type": "stream",
     "text": [
      "/kaggle/input/titanic/train.csv\n",
      "/kaggle/input/titanic/test.csv\n",
      "/kaggle/input/titanic/gender_submission.csv\n"
     ]
    }
   ],
   "source": [
    "import numpy as np # linear algebra\n",
    "import pandas as pd # data processing, CSV file I/O (e.g. pd.read_csv)\n",
    "import os\n",
    "from sklearn.metrics import confusion_matrix, accuracy_score\n",
    "for dirname, _, filenames in os.walk('/kaggle/input'):\n",
    "    for filename in filenames:\n",
    "        print(os.path.join(dirname, filename))"
   ]
  },
  {
   "cell_type": "code",
   "execution_count": 2,
   "id": "9161abaa",
   "metadata": {
    "execution": {
     "iopub.execute_input": "2023-11-09T19:00:08.207798Z",
     "iopub.status.busy": "2023-11-09T19:00:08.207223Z",
     "iopub.status.idle": "2023-11-09T19:00:08.268513Z",
     "shell.execute_reply": "2023-11-09T19:00:08.266886Z"
    },
    "papermill": {
     "duration": 0.070391,
     "end_time": "2023-11-09T19:00:08.272209",
     "exception": false,
     "start_time": "2023-11-09T19:00:08.201818",
     "status": "completed"
    },
    "tags": []
   },
   "outputs": [
    {
     "data": {
      "text/html": [
       "<div>\n",
       "<style scoped>\n",
       "    .dataframe tbody tr th:only-of-type {\n",
       "        vertical-align: middle;\n",
       "    }\n",
       "\n",
       "    .dataframe tbody tr th {\n",
       "        vertical-align: top;\n",
       "    }\n",
       "\n",
       "    .dataframe thead th {\n",
       "        text-align: right;\n",
       "    }\n",
       "</style>\n",
       "<table border=\"1\" class=\"dataframe\">\n",
       "  <thead>\n",
       "    <tr style=\"text-align: right;\">\n",
       "      <th></th>\n",
       "      <th>PassengerId</th>\n",
       "      <th>Survived</th>\n",
       "      <th>Pclass</th>\n",
       "      <th>Name</th>\n",
       "      <th>Sex</th>\n",
       "      <th>Age</th>\n",
       "      <th>SibSp</th>\n",
       "      <th>Parch</th>\n",
       "      <th>Ticket</th>\n",
       "      <th>Fare</th>\n",
       "      <th>Cabin</th>\n",
       "      <th>Embarked</th>\n",
       "    </tr>\n",
       "  </thead>\n",
       "  <tbody>\n",
       "    <tr>\n",
       "      <th>0</th>\n",
       "      <td>1</td>\n",
       "      <td>0</td>\n",
       "      <td>3</td>\n",
       "      <td>Braund, Mr. Owen Harris</td>\n",
       "      <td>male</td>\n",
       "      <td>22.0</td>\n",
       "      <td>1</td>\n",
       "      <td>0</td>\n",
       "      <td>A/5 21171</td>\n",
       "      <td>7.2500</td>\n",
       "      <td>NaN</td>\n",
       "      <td>S</td>\n",
       "    </tr>\n",
       "    <tr>\n",
       "      <th>1</th>\n",
       "      <td>2</td>\n",
       "      <td>1</td>\n",
       "      <td>1</td>\n",
       "      <td>Cumings, Mrs. John Bradley (Florence Briggs Th...</td>\n",
       "      <td>female</td>\n",
       "      <td>38.0</td>\n",
       "      <td>1</td>\n",
       "      <td>0</td>\n",
       "      <td>PC 17599</td>\n",
       "      <td>71.2833</td>\n",
       "      <td>C85</td>\n",
       "      <td>C</td>\n",
       "    </tr>\n",
       "    <tr>\n",
       "      <th>2</th>\n",
       "      <td>3</td>\n",
       "      <td>1</td>\n",
       "      <td>3</td>\n",
       "      <td>Heikkinen, Miss. Laina</td>\n",
       "      <td>female</td>\n",
       "      <td>26.0</td>\n",
       "      <td>0</td>\n",
       "      <td>0</td>\n",
       "      <td>STON/O2. 3101282</td>\n",
       "      <td>7.9250</td>\n",
       "      <td>NaN</td>\n",
       "      <td>S</td>\n",
       "    </tr>\n",
       "    <tr>\n",
       "      <th>3</th>\n",
       "      <td>4</td>\n",
       "      <td>1</td>\n",
       "      <td>1</td>\n",
       "      <td>Futrelle, Mrs. Jacques Heath (Lily May Peel)</td>\n",
       "      <td>female</td>\n",
       "      <td>35.0</td>\n",
       "      <td>1</td>\n",
       "      <td>0</td>\n",
       "      <td>113803</td>\n",
       "      <td>53.1000</td>\n",
       "      <td>C123</td>\n",
       "      <td>S</td>\n",
       "    </tr>\n",
       "    <tr>\n",
       "      <th>4</th>\n",
       "      <td>5</td>\n",
       "      <td>0</td>\n",
       "      <td>3</td>\n",
       "      <td>Allen, Mr. William Henry</td>\n",
       "      <td>male</td>\n",
       "      <td>35.0</td>\n",
       "      <td>0</td>\n",
       "      <td>0</td>\n",
       "      <td>373450</td>\n",
       "      <td>8.0500</td>\n",
       "      <td>NaN</td>\n",
       "      <td>S</td>\n",
       "    </tr>\n",
       "  </tbody>\n",
       "</table>\n",
       "</div>"
      ],
      "text/plain": [
       "   PassengerId  Survived  Pclass  \\\n",
       "0            1         0       3   \n",
       "1            2         1       1   \n",
       "2            3         1       3   \n",
       "3            4         1       1   \n",
       "4            5         0       3   \n",
       "\n",
       "                                                Name     Sex   Age  SibSp  \\\n",
       "0                            Braund, Mr. Owen Harris    male  22.0      1   \n",
       "1  Cumings, Mrs. John Bradley (Florence Briggs Th...  female  38.0      1   \n",
       "2                             Heikkinen, Miss. Laina  female  26.0      0   \n",
       "3       Futrelle, Mrs. Jacques Heath (Lily May Peel)  female  35.0      1   \n",
       "4                           Allen, Mr. William Henry    male  35.0      0   \n",
       "\n",
       "   Parch            Ticket     Fare Cabin Embarked  \n",
       "0      0         A/5 21171   7.2500   NaN        S  \n",
       "1      0          PC 17599  71.2833   C85        C  \n",
       "2      0  STON/O2. 3101282   7.9250   NaN        S  \n",
       "3      0            113803  53.1000  C123        S  \n",
       "4      0            373450   8.0500   NaN        S  "
      ]
     },
     "execution_count": 2,
     "metadata": {},
     "output_type": "execute_result"
    }
   ],
   "source": [
    "# training_dataset \n",
    "training = pd.read_csv(\"/kaggle/input/titanic/train.csv\")\n",
    "training.head()"
   ]
  },
  {
   "cell_type": "code",
   "execution_count": 3,
   "id": "2015dd7c",
   "metadata": {
    "execution": {
     "iopub.execute_input": "2023-11-09T19:00:08.287086Z",
     "iopub.status.busy": "2023-11-09T19:00:08.285814Z",
     "iopub.status.idle": "2023-11-09T19:00:08.314156Z",
     "shell.execute_reply": "2023-11-09T19:00:08.312996Z"
    },
    "papermill": {
     "duration": 0.038052,
     "end_time": "2023-11-09T19:00:08.317453",
     "exception": false,
     "start_time": "2023-11-09T19:00:08.279401",
     "status": "completed"
    },
    "tags": []
   },
   "outputs": [
    {
     "data": {
      "text/html": [
       "<div>\n",
       "<style scoped>\n",
       "    .dataframe tbody tr th:only-of-type {\n",
       "        vertical-align: middle;\n",
       "    }\n",
       "\n",
       "    .dataframe tbody tr th {\n",
       "        vertical-align: top;\n",
       "    }\n",
       "\n",
       "    .dataframe thead th {\n",
       "        text-align: right;\n",
       "    }\n",
       "</style>\n",
       "<table border=\"1\" class=\"dataframe\">\n",
       "  <thead>\n",
       "    <tr style=\"text-align: right;\">\n",
       "      <th></th>\n",
       "      <th>PassengerId</th>\n",
       "      <th>Pclass</th>\n",
       "      <th>Name</th>\n",
       "      <th>Sex</th>\n",
       "      <th>Age</th>\n",
       "      <th>SibSp</th>\n",
       "      <th>Parch</th>\n",
       "      <th>Ticket</th>\n",
       "      <th>Fare</th>\n",
       "      <th>Cabin</th>\n",
       "      <th>Embarked</th>\n",
       "    </tr>\n",
       "  </thead>\n",
       "  <tbody>\n",
       "    <tr>\n",
       "      <th>0</th>\n",
       "      <td>892</td>\n",
       "      <td>3</td>\n",
       "      <td>Kelly, Mr. James</td>\n",
       "      <td>male</td>\n",
       "      <td>34.5</td>\n",
       "      <td>0</td>\n",
       "      <td>0</td>\n",
       "      <td>330911</td>\n",
       "      <td>7.8292</td>\n",
       "      <td>NaN</td>\n",
       "      <td>Q</td>\n",
       "    </tr>\n",
       "    <tr>\n",
       "      <th>1</th>\n",
       "      <td>893</td>\n",
       "      <td>3</td>\n",
       "      <td>Wilkes, Mrs. James (Ellen Needs)</td>\n",
       "      <td>female</td>\n",
       "      <td>47.0</td>\n",
       "      <td>1</td>\n",
       "      <td>0</td>\n",
       "      <td>363272</td>\n",
       "      <td>7.0000</td>\n",
       "      <td>NaN</td>\n",
       "      <td>S</td>\n",
       "    </tr>\n",
       "    <tr>\n",
       "      <th>2</th>\n",
       "      <td>894</td>\n",
       "      <td>2</td>\n",
       "      <td>Myles, Mr. Thomas Francis</td>\n",
       "      <td>male</td>\n",
       "      <td>62.0</td>\n",
       "      <td>0</td>\n",
       "      <td>0</td>\n",
       "      <td>240276</td>\n",
       "      <td>9.6875</td>\n",
       "      <td>NaN</td>\n",
       "      <td>Q</td>\n",
       "    </tr>\n",
       "    <tr>\n",
       "      <th>3</th>\n",
       "      <td>895</td>\n",
       "      <td>3</td>\n",
       "      <td>Wirz, Mr. Albert</td>\n",
       "      <td>male</td>\n",
       "      <td>27.0</td>\n",
       "      <td>0</td>\n",
       "      <td>0</td>\n",
       "      <td>315154</td>\n",
       "      <td>8.6625</td>\n",
       "      <td>NaN</td>\n",
       "      <td>S</td>\n",
       "    </tr>\n",
       "    <tr>\n",
       "      <th>4</th>\n",
       "      <td>896</td>\n",
       "      <td>3</td>\n",
       "      <td>Hirvonen, Mrs. Alexander (Helga E Lindqvist)</td>\n",
       "      <td>female</td>\n",
       "      <td>22.0</td>\n",
       "      <td>1</td>\n",
       "      <td>1</td>\n",
       "      <td>3101298</td>\n",
       "      <td>12.2875</td>\n",
       "      <td>NaN</td>\n",
       "      <td>S</td>\n",
       "    </tr>\n",
       "  </tbody>\n",
       "</table>\n",
       "</div>"
      ],
      "text/plain": [
       "   PassengerId  Pclass                                          Name     Sex  \\\n",
       "0          892       3                              Kelly, Mr. James    male   \n",
       "1          893       3              Wilkes, Mrs. James (Ellen Needs)  female   \n",
       "2          894       2                     Myles, Mr. Thomas Francis    male   \n",
       "3          895       3                              Wirz, Mr. Albert    male   \n",
       "4          896       3  Hirvonen, Mrs. Alexander (Helga E Lindqvist)  female   \n",
       "\n",
       "    Age  SibSp  Parch   Ticket     Fare Cabin Embarked  \n",
       "0  34.5      0      0   330911   7.8292   NaN        Q  \n",
       "1  47.0      1      0   363272   7.0000   NaN        S  \n",
       "2  62.0      0      0   240276   9.6875   NaN        Q  \n",
       "3  27.0      0      0   315154   8.6625   NaN        S  \n",
       "4  22.0      1      1  3101298  12.2875   NaN        S  "
      ]
     },
     "execution_count": 3,
     "metadata": {},
     "output_type": "execute_result"
    }
   ],
   "source": [
    "# test_dataset\n",
    "test = pd.read_csv(\"/kaggle/input/titanic/test.csv\")\n",
    "test.head()\n",
    "\n",
    "# test.isna().sum()"
   ]
  },
  {
   "cell_type": "code",
   "execution_count": 4,
   "id": "b625855b",
   "metadata": {
    "execution": {
     "iopub.execute_input": "2023-11-09T19:00:08.330953Z",
     "iopub.status.busy": "2023-11-09T19:00:08.330350Z",
     "iopub.status.idle": "2023-11-09T19:00:08.343417Z",
     "shell.execute_reply": "2023-11-09T19:00:08.342188Z"
    },
    "papermill": {
     "duration": 0.023803,
     "end_time": "2023-11-09T19:00:08.346022",
     "exception": false,
     "start_time": "2023-11-09T19:00:08.322219",
     "status": "completed"
    },
    "tags": []
   },
   "outputs": [],
   "source": [
    "# data processing to handle the age filling \n",
    "training['Title'], test['Title'] = [df.Name.str.extract \\\n",
    "        (' ([A-Za-z]+)\\.', expand=False) for df in [training, test]]"
   ]
  },
  {
   "cell_type": "code",
   "execution_count": 5,
   "id": "ee3cddf3",
   "metadata": {
    "execution": {
     "iopub.execute_input": "2023-11-09T19:00:08.359389Z",
     "iopub.status.busy": "2023-11-09T19:00:08.358729Z",
     "iopub.status.idle": "2023-11-09T19:00:08.385038Z",
     "shell.execute_reply": "2023-11-09T19:00:08.383845Z"
    },
    "papermill": {
     "duration": 0.036087,
     "end_time": "2023-11-09T19:00:08.387923",
     "exception": false,
     "start_time": "2023-11-09T19:00:08.351836",
     "status": "completed"
    },
    "tags": []
   },
   "outputs": [],
   "source": [
    "training['Age'].fillna(training.groupby('Title')['Age'].transform('mean'), inplace=True)\n",
    "test['Age'].fillna(test.groupby('Title')['Age'].transform('mean'), inplace=True)\n",
    "\n",
    "training['Age'].fillna(training['Age'].mean(),inplace=True)\n",
    "test['Age'].fillna(test[\"Age\"].mean(),inplace=True)\n",
    "\n",
    "\n",
    "\n"
   ]
  },
  {
   "cell_type": "code",
   "execution_count": 6,
   "id": "4dc9eea9",
   "metadata": {
    "execution": {
     "iopub.execute_input": "2023-11-09T19:00:08.399152Z",
     "iopub.status.busy": "2023-11-09T19:00:08.398352Z",
     "iopub.status.idle": "2023-11-09T19:00:08.408792Z",
     "shell.execute_reply": "2023-11-09T19:00:08.407553Z"
    },
    "papermill": {
     "duration": 0.018829,
     "end_time": "2023-11-09T19:00:08.411426",
     "exception": false,
     "start_time": "2023-11-09T19:00:08.392597",
     "status": "completed"
    },
    "tags": []
   },
   "outputs": [
    {
     "name": "stdout",
     "output_type": "stream",
     "text": [
      "The Women survival rate on the ship was 74.204%\n"
     ]
    }
   ],
   "source": [
    "# getting the women and men who survived\n",
    "women_survival = training.loc[training[\"Sex\"]==\"female\"][\"Survived\"]\n",
    "women_survival_rate_original = sum(women_survival)/len(women_survival)\n",
    "print(f\"The Women survival rate on the ship was {round((women_survival_rate_original*100),3)}%\")"
   ]
  },
  {
   "cell_type": "code",
   "execution_count": 7,
   "id": "46e3b4cf",
   "metadata": {
    "execution": {
     "iopub.execute_input": "2023-11-09T19:00:08.422582Z",
     "iopub.status.busy": "2023-11-09T19:00:08.422135Z",
     "iopub.status.idle": "2023-11-09T19:00:08.432081Z",
     "shell.execute_reply": "2023-11-09T19:00:08.430936Z"
    },
    "papermill": {
     "duration": 0.018769,
     "end_time": "2023-11-09T19:00:08.434820",
     "exception": false,
     "start_time": "2023-11-09T19:00:08.416051",
     "status": "completed"
    },
    "tags": []
   },
   "outputs": [
    {
     "name": "stdout",
     "output_type": "stream",
     "text": [
      "The Men survival rate on the ship was 18.891%\n"
     ]
    }
   ],
   "source": [
    "men_survival = training.loc[training[\"Sex\"]==\"male\"][\"Survived\"]\n",
    "men_survival_rate_original = sum(men_survival)/len(men_survival)\n",
    "print(f\"The Men survival rate on the ship was {round((men_survival_rate_original*100),3)}%\")"
   ]
  },
  {
   "cell_type": "code",
   "execution_count": 8,
   "id": "882a8d27",
   "metadata": {
    "execution": {
     "iopub.execute_input": "2023-11-09T19:00:08.447546Z",
     "iopub.status.busy": "2023-11-09T19:00:08.446316Z",
     "iopub.status.idle": "2023-11-09T19:00:09.242863Z",
     "shell.execute_reply": "2023-11-09T19:00:09.241538Z"
    },
    "papermill": {
     "duration": 0.805468,
     "end_time": "2023-11-09T19:00:09.245569",
     "exception": false,
     "start_time": "2023-11-09T19:00:08.440101",
     "status": "completed"
    },
    "tags": []
   },
   "outputs": [
    {
     "name": "stdout",
     "output_type": "stream",
     "text": [
      "Your submission was successfully saved!\n"
     ]
    },
    {
     "data": {
      "text/plain": [
       "0.9665071770334929"
      ]
     },
     "execution_count": 8,
     "metadata": {},
     "output_type": "execute_result"
    }
   ],
   "source": [
    "from sklearn.ensemble import RandomForestClassifier\n",
    "y = training[\"Survived\"]\n",
    "features = [\"Pclass\", \"Sex\", \"SibSp\", \"Parch\",'Age']\n",
    "X = pd.get_dummies(training[features])\n",
    "X_test = pd.get_dummies(test[features])\n",
    "model = RandomForestClassifier(n_estimators=100, max_depth=4, random_state=1)\n",
    "model.fit(X, y)\n",
    "predictions = model.predict(X_test)\n",
    "\n",
    "output = pd.DataFrame({'PassengerId': test.PassengerId, 'Survived': predictions})\n",
    "output.to_csv('submission.csv', index=False)\n",
    "print(\"Your submission was successfully saved!\")\n",
    "from sklearn.metrics import accuracy_score\n",
    "# fetching the actual output\n",
    "actual_df = pd.read_csv('/kaggle/input/titanic/gender_submission.csv')\n",
    "accuracy_score(actual_df['Survived'],predictions)\n"
   ]
  }
 ],
 "metadata": {
  "kernelspec": {
   "display_name": "Python 3",
   "language": "python",
   "name": "python3"
  },
  "language_info": {
   "codemirror_mode": {
    "name": "ipython",
    "version": 3
   },
   "file_extension": ".py",
   "mimetype": "text/x-python",
   "name": "python",
   "nbconvert_exporter": "python",
   "pygments_lexer": "ipython3",
   "version": "3.10.12"
  },
  "papermill": {
   "default_parameters": {},
   "duration": 8.585333,
   "end_time": "2023-11-09T19:00:09.871990",
   "environment_variables": {},
   "exception": null,
   "input_path": "__notebook__.ipynb",
   "output_path": "__notebook__.ipynb",
   "parameters": {},
   "start_time": "2023-11-09T19:00:01.286657",
   "version": "2.4.0"
  }
 },
 "nbformat": 4,
 "nbformat_minor": 5
}
